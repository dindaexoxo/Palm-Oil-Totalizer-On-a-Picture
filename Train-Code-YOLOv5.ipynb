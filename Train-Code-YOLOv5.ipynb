{
 "cells": [
  {
   "cell_type": "markdown",
   "id": "101bf8ad-268e-42f3-99fb-b7d6bd171c14",
   "metadata": {},
   "source": [
    "# 1. Creating the Data Configuration File"
   ]
  },
  {
   "cell_type": "code",
   "execution_count": null,
   "id": "7547627d-e1dc-4357-8c46-6d772ff63d51",
   "metadata": {},
   "outputs": [],
   "source": [
    "# Create a data configuration file\n",
    "data_yaml = \"\"\"\n",
    "train: G:/Palm_Trees_dataset/images/train\n",
    "val: G:/Palm_Trees_dataset/images/val\n",
    "test: G:/Palm_Trees_dataset/images/test\n",
    "\n",
    "nc: 1  # Number of classes\n",
    "names: ['palm-oil']  # Class names\n",
    "\"\"\"\n",
    "\n",
    "# Save the configuration to a file\n",
    "with open('palm_tree.yaml', 'w') as f:\n",
    "    f.write(data_yaml)"
   ]
  },
  {
   "cell_type": "markdown",
   "id": "d2095e8b-586b-4fab-bd62-909089d50dfa",
   "metadata": {},
   "source": [
    "## Explanation:\n",
    "This code generates a YOLOv5-compatible data configuration file, which contains:\n",
    "\n",
    "- Paths for the training, validation, and testing datasets.\n",
    "- Number of classes (`nc`): Specifies the number of object categories in your dataset. In this case, it's `1` (only \"palm-oil\").\n",
    "- Class names: Defines the names of the object categories.\n",
    "The configuration file is saved as palm_tree.yaml. YOLOv5 uses this file to understand the dataset structure during training and validation."
   ]
  },
  {
   "cell_type": "markdown",
   "id": "9a1f3b9e-0889-458b-a7e2-1aa22009b875",
   "metadata": {},
   "source": [
    "# 2. Training the YOLOv5 Model"
   ]
  },
  {
   "cell_type": "code",
   "execution_count": null,
   "id": "a97d0222-f2b2-4efc-ad08-08a0e40b33a5",
   "metadata": {},
   "outputs": [],
   "source": [
    "# Import necessary modules\n",
    "import torch\n",
    "import yaml\n",
    "from yolov5 import train\n",
    "\n",
    "# Adjust arguments for training\n",
    "args = {\n",
    "    'img_size': 640,\n",
    "    'batch_size': 4,  # Reduce if facing memory issues on CPU\n",
    "    'epochs': 10,     # Start with fewer epochs due to CPU limitations\n",
    "    'data': 'palm_tree.yaml',\n",
    "    'weights': 'yolov5n.pt',\n",
    "    'project': 'runs/train',\n",
    "    'name': 'exp',\n",
    "    'device': 'cpu',\n",
    "}\n",
    "\n",
    "# Run training\n",
    "train.run(**args)"
   ]
  },
  {
   "cell_type": "markdown",
   "id": "728d3238-ccf6-4966-8747-0faf78701fb5",
   "metadata": {},
   "source": [
    "## Explanation:\n",
    "This script trains a YOLOv5 model on your dataset.\n",
    "\n",
    "- Imports: It imports the required modules and the train function from YOLOv5.\n",
    "- Arguments:\n",
    "    - `img_size`: The input image size used during training (640 x 640).\n",
    "    - `batch_size`: Number of images processed simultaneously. Reduce this value if you're facing memory issues.\n",
    "    - `epochs`: Number of times the model will pass through the entire training dataset.\n",
    "    - `data`: Path to the data configuration file (`palm_tree.yaml`).\n",
    "    - `weights`: Path to the pre-trained YOLOv5 model (e.g., `yolov5n.pt` for YOLOv5 Nano).\n",
    "    - `project`: Folder where training results will be saved (`runs/train`).\n",
    "    - `name`: Experiment name (`exp`).\n",
    "    - `device`: Device for training (`cpu` if you don’t have a GPU).\n",
    "When executed, this script starts the training process and saves the best model weights and results in the specified project folder."
   ]
  },
  {
   "cell_type": "markdown",
   "id": "4f85d8ce-3af2-445e-9062-85577a62a44d",
   "metadata": {},
   "source": [
    "# 3. Validating the Trained YOLOv5 Model"
   ]
  },
  {
   "cell_type": "code",
   "execution_count": null,
   "id": "bb39182c-2339-41fa-9eb7-97a494cbe524",
   "metadata": {},
   "outputs": [],
   "source": [
    "# Import the validation script\n",
    "from yolov5 import val\n",
    "\n",
    "# Set validation arguments\n",
    "val_args = {\n",
    "    'data': 'palm_tree.yaml',\n",
    "    'weights': 'runs/train/exp4/weights/best.pt',  # Update path if necessary\n",
    "    'imgsz': 640,\n",
    "    'batch_size': 16,\n",
    "    'device': 'cpu',\n",
    "}\n",
    "\n",
    "# Run validation\n",
    "val.run(**val_args)"
   ]
  },
  {
   "cell_type": "markdown",
   "id": "e7f94b50-a006-4da2-bf1e-35d42ef377d7",
   "metadata": {},
   "source": [
    "## Explanation:\n",
    "This script validates the trained YOLOv5 model using the validation dataset.\n",
    "\n",
    "- Imports: It imports the `val` function from YOLOv5.\n",
    "- Arguments:\n",
    "    - `data`: Path to the data configuration file (`palm_tree.yaml`).\n",
    "    - `weights`: Path to the trained model weights (e.g., `best.pt` from the training step).\n",
    "    - `imgsz`: Input image size during validation (must match the size used in training).\n",
    "    - `batch_size`: Number of images processed simultaneously during validation.\n",
    "    - `device`: Device for validation (`cpu` if no GPU is available).\n",
    "When executed, this script evaluates the model's performance on the validation dataset and outputs metrics like precision, recall, mAP (mean average precision), and more."
   ]
  }
 ],
 "metadata": {
  "kernelspec": {
   "display_name": "Python 3 (ipykernel)",
   "language": "python",
   "name": "python3"
  },
  "language_info": {
   "codemirror_mode": {
    "name": "ipython",
    "version": 3
   },
   "file_extension": ".py",
   "mimetype": "text/x-python",
   "name": "python",
   "nbconvert_exporter": "python",
   "pygments_lexer": "ipython3",
   "version": "3.10.15"
  }
 },
 "nbformat": 4,
 "nbformat_minor": 5
}
